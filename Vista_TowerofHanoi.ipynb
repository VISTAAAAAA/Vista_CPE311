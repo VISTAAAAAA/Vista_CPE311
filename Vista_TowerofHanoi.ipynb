{
  "cells": [
    {
      "cell_type": "markdown",
      "metadata": {
        "id": "B4xOP29hH8aK"
      },
      "source": [
        "\n",
        "\n",
        "> Indented block\n",
        "**Procedure**\n",
        "  - Implement the algorithm for the Tower of Hanoi Problem as shown above.\n",
        "  - Write your observations for your written algorithm/solution.\n"
      ]
    },
    {
      "cell_type": "markdown",
      "metadata": {
        "id": "wuxGP0q-ILKK"
      },
      "source": [
        "There are 3 pegs and a stack of 3, the objective in here is to move the stack to the other end or peg number 3 from start or peg 1. We are allowed to move one disk a time and bigger disk is not allowed to be on the top of smaller disk than it. First thing we do here is to make a constraint that it is not allowed to place a bigger disk to a smaller one so it mush recurse again to find a peg that has no smaller this than it, and then We will make a method that will find or try each paths."
      ]
    },
    {
      "cell_type": "code",
      "execution_count": 3,
      "metadata": {
        "colab": {
          "base_uri": "https://localhost:8080/"
        },
        "id": "Fcj3qoPvH7xf",
        "outputId": "84e53e88-408a-434b-e28e-5e5124fd69ac"
      },
      "outputs": [
        {
          "output_type": "stream",
          "name": "stdout",
          "text": [
            "Moving one to ['one']\n",
            "Node 1:  ['three', 'twoo']\n",
            "Node 2:  []\n",
            "Node 3:  ['one']\n",
            "Moving twoo to ['twoo']\n",
            "Node 1:  ['three']\n",
            "Node 2:  ['twoo']\n",
            "Node 3:  ['one']\n",
            "Moving one to ['twoo', 'one']\n",
            "Node 1:  ['three']\n",
            "Node 2:  ['twoo', 'one']\n",
            "Node 3:  []\n",
            "Moving three to ['three']\n",
            "Node 1:  []\n",
            "Node 2:  ['twoo', 'one']\n",
            "Node 3:  ['three']\n",
            "Moving one to ['one']\n",
            "Peg 1:  ['one']\n",
            "Peg 2:  ['twoo']\n",
            "Peg 3:  ['three']\n",
            "Moving twoo to ['three', 'twoo']\n",
            "Peg 1:  ['one']\n",
            "Peg 2:  []\n",
            "Peg 3:  ['three', 'twoo']\n",
            "Moving one to ['three', 'twoo', 'one']\n",
            "Node 1:  []\n",
            "Node 2:  []\n",
            "Node 3:  ['three', 'twoo', 'one']\n"
          ]
        }
      ],
      "source": [
        "# The three disk is placed in disk 1, and there is final that will stop the iteration\n",
        "peg1 = ['three', 'twoo', 'one']\n",
        "peg2 = []\n",
        "peg3 = []\n",
        "final = ['three', 'twoo', 'one']\n",
        "\n",
        "\n",
        "# constraint where 'meow' is the item in a list and 'num' is a set of list where we will try to append the items\n",
        "def checker(meow, num):\n",
        "    for obj in num:\n",
        "        if not obj or len(obj[-1]) > len(meow):  # since I am using string I used len() to follow the rules of TOH\n",
        "            obj.append(meow)\n",
        "            print(f\"Moving {meow} to {obj}\")\n",
        "            return True\n",
        "    return False\n",
        "\n",
        "# Recurser for list and Items\n",
        "def wada(peg):\n",
        "    while peg3 != final:  # checks if peg3 has met the final state\n",
        "        if peg3 and peg3[0] == 'three':  # if peg 3 has already 'three' in its ground\n",
        "            if not peg2:  # if peg 2 is empty\n",
        "                ee = peg1\n",
        "                bro = [peg3]\n",
        "                if checker(ee[-1], bro):\n",
        "                    ee.pop(-1)\n",
        "                    print(\"Node 1: \", peg1)\n",
        "                    print(\"Node 2: \", peg2)\n",
        "                    print(\"Node 3: \", peg3)\n",
        "                    wada(peg)\n",
        "            else:  # if peg 2 is not empty\n",
        "                ee = peg2\n",
        "                bro = [peg1, peg3]\n",
        "                if checker(ee[-1], bro):\n",
        "                    ee.pop(-1)\n",
        "                    print(\"Peg 1: \", peg1)\n",
        "                    print(\"Peg 2: \", peg2)\n",
        "                    print(\"Peg 3: \", peg3)\n",
        "                    wada(peg)\n",
        "        if not peg:  # if regular recursion's list passed is empty\n",
        "            teambuilder()\n",
        "        else:  # regular iteration, initial iteration\n",
        "            sis = [peg3, peg2, peg1]\n",
        "            if checker(peg[-1], sis):  # if there is path or way in checker it will return true\n",
        "                peg.pop(-1)\n",
        "                print(\"Node 1: \", peg1)\n",
        "                print(\"Node 2: \", peg2)\n",
        "                print(\"Node 3: \", peg3)\n",
        "                wada(peg)  # and will recurse the same peg\n",
        "            else:  # if no path or possible way for the list, it will call other list using teambuilder func\n",
        "                teambuilder()\n",
        "\n",
        "\n",
        "def teambuilder():  # tries to make trials for pegs to be iterated\n",
        "    for i in [peg3, peg1, peg2]:\n",
        "        if not i:  # if peg is empty, will skip\n",
        "            continue\n",
        "        else:  # tries this peg for possible way\n",
        "            wada(i)\n",
        "\n",
        "\n",
        "wada(peg1)\n"
      ]
    },
    {
      "cell_type": "markdown",
      "source": [
        "![image.png](data:image/png;base64,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)"
      ],
      "metadata": {
        "id": "gQdq8u-h8XHN"
      }
    }
  ],
  "metadata": {
    "colab": {
      "provenance": []
    },
    "kernelspec": {
      "display_name": "Python 3",
      "name": "python3"
    },
    "language_info": {
      "name": "python"
    }
  },
  "nbformat": 4,
  "nbformat_minor": 0
}