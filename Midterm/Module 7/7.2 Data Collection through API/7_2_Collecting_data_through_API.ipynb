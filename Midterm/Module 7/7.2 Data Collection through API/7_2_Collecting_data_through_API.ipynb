{
  "nbformat": 4,
  "nbformat_minor": 0,
  "metadata": {
    "colab": {
      "provenance": []
    },
    "kernelspec": {
      "name": "python3",
      "display_name": "Python 3"
    },
    "language_info": {
      "name": "python"
    }
  },
  "cells": [
    {
      "cell_type": "markdown",
      "source": [
        "# Collecting temperature data from an API\n",
        "###About the data\n",
        "\n",
        "In this notebook, we will be collecting daily temperature data from the  [National Centers for Environmental Information (NCEI)](https://www.ncdc.noaa.gov/cdo-web/webservices/v2) API. We will use the Global Historical Climatology\n",
        "Network - Daily (GHCND) data set; see the documentation [here](https://www1.ncdc.noaa.gov/pub/data/cdo/documentation/GHCND_documentation.pdf)\n",
        "\n",
        "Note: The NCEI is part of the National Oceanic and Atmospheric Administration (NOAA) and, as you can see from the URL for the API, this resource was created when the\n",
        "NCEI was called the NCDC. Should the URL for this resource change in the future, you can search for the NCEI weather API to find the updated one.\n",
        "\n"
      ],
      "metadata": {
        "id": "XDERFd5sPWIS"
      }
    },
    {
      "cell_type": "markdown",
      "source": [
        "# Using the NCEI API\n",
        "\n",
        "Paste your token below"
      ],
      "metadata": {
        "id": "8lYG6Bd5QZvI"
      }
    },
    {
      "cell_type": "code",
      "execution_count": 113,
      "metadata": {
        "id": "utBlLiPCI_Kp"
      },
      "outputs": [],
      "source": [
        "import requests\n",
        "def make_request(endpoint, payload=None):\n",
        " \"\"\"\n",
        " Make a request to a specific endpoint on the weather API\n",
        " passing headers and optional payload.\n",
        "\n",
        " Parameters:\n",
        " - endpoint: The endpoint of the API you want to\n",
        " make a GET request to.\n",
        " - payload: A dictionary of data to pass along\n",
        " with the request.\n",
        "\n",
        " Returns:\n",
        " Response object.\n",
        " \"\"\"\n",
        " return requests.get(\n",
        " f'https://www.ncdc.noaa.gov/cdo-web/api/v2/{endpoint}',\n",
        " headers={\n",
        " 'token': 'SsFLqwUFuYIHQRPEeWFPQjuqZLCySibB'\n",
        " },\n",
        " params=payload\n",
        " )"
      ]
    },
    {
      "cell_type": "markdown",
      "source": [
        "# See what datasets are available\n",
        "We can make requests to the datasets endpoint to see what datasets are available. We also pass in a dictionary for the payload to get datsets that have data after the start\n",
        "date of October 1, 2018.\n"
      ],
      "metadata": {
        "id": "96QQPLfLQhG1"
      }
    },
    {
      "cell_type": "code",
      "source": [
        "response = make_request('datasets', {'startdate':'2018-10-01'})\n",
        "response.status_code"
      ],
      "metadata": {
        "colab": {
          "base_uri": "https://localhost:8080/"
        },
        "id": "mV_ti4K_MFCS",
        "outputId": "55466178-d833-49f6-8a90-352b77cb721c"
      },
      "execution_count": 114,
      "outputs": [
        {
          "output_type": "execute_result",
          "data": {
            "text/plain": [
              "200"
            ]
          },
          "metadata": {},
          "execution_count": 114
        }
      ]
    },
    {
      "cell_type": "markdown",
      "source": [
        "Status code of 200 means everything is OK. More codes can be found [here](https://en.wikipedia.org/wiki/List_of_HTTP_status_codes)"
      ],
      "metadata": {
        "id": "aS9OJwcyQr5_"
      }
    },
    {
      "cell_type": "markdown",
      "source": [
        "# Get the keys of the result\n",
        "The result is a JSON object which we can access with the json() method of our Response object. JSON objects can be treated like dictionaries, so we can access the\n",
        "keys() just like we would a dictionary:"
      ],
      "metadata": {
        "id": "QaDJsV9tQ32K"
      }
    },
    {
      "cell_type": "code",
      "source": [
        "response.json().keys()"
      ],
      "metadata": {
        "colab": {
          "base_uri": "https://localhost:8080/"
        },
        "id": "p19qL63VMiSy",
        "outputId": "542318ec-fa49-4958-b9e3-4b6f83edb633"
      },
      "execution_count": 115,
      "outputs": [
        {
          "output_type": "execute_result",
          "data": {
            "text/plain": [
              "dict_keys(['metadata', 'results'])"
            ]
          },
          "metadata": {},
          "execution_count": 115
        }
      ]
    },
    {
      "cell_type": "markdown",
      "source": [
        "The metadata of the JSON response will tell us information about the request and data we got back:"
      ],
      "metadata": {
        "id": "itXROqArQ8m4"
      }
    },
    {
      "cell_type": "code",
      "source": [
        "response.json()['metadata']"
      ],
      "metadata": {
        "colab": {
          "base_uri": "https://localhost:8080/"
        },
        "id": "ghMMx_BDMj7u",
        "outputId": "8b97c7f9-aaa8-4cfe-b2b1-1cec8abaa97d"
      },
      "execution_count": 116,
      "outputs": [
        {
          "output_type": "execute_result",
          "data": {
            "text/plain": [
              "{'resultset': {'offset': 1, 'count': 11, 'limit': 25}}"
            ]
          },
          "metadata": {},
          "execution_count": 116
        }
      ]
    },
    {
      "cell_type": "markdown",
      "source": [
        "# Figure out what data is in the result\n",
        "The results key contains the data we requested. This is a list of what would be rows in our dataframe. Each entry in the list is a dictionary, so we can look at the keys to get\n",
        "the fields:\n"
      ],
      "metadata": {
        "id": "RizrUEOaRGLK"
      }
    },
    {
      "cell_type": "code",
      "source": [
        "response.json()['results'][0].keys()"
      ],
      "metadata": {
        "colab": {
          "base_uri": "https://localhost:8080/"
        },
        "id": "sEeavBupMnuZ",
        "outputId": "e669c38d-bd2b-4a24-f405-d57f6654a9c9"
      },
      "execution_count": 117,
      "outputs": [
        {
          "output_type": "execute_result",
          "data": {
            "text/plain": [
              "dict_keys(['uid', 'mindate', 'maxdate', 'name', 'datacoverage', 'id'])"
            ]
          },
          "metadata": {},
          "execution_count": 117
        }
      ]
    },
    {
      "cell_type": "markdown",
      "source": [
        "# Parse the result\n",
        "We don't want all those fields, so we will use a list comphrension to take only the id and name fields out:\n"
      ],
      "metadata": {
        "id": "dNUpeWNgRPeZ"
      }
    },
    {
      "cell_type": "code",
      "source": [
        "[(data['id'], data['name']) for data in response.json()['results']]"
      ],
      "metadata": {
        "colab": {
          "base_uri": "https://localhost:8080/"
        },
        "id": "r4ORxo_FMpFb",
        "outputId": "fa790b14-fe97-42b8-b8ae-2f7fdcba662e"
      },
      "execution_count": 118,
      "outputs": [
        {
          "output_type": "execute_result",
          "data": {
            "text/plain": [
              "[('GHCND', 'Daily Summaries'),\n",
              " ('GSOM', 'Global Summary of the Month'),\n",
              " ('GSOY', 'Global Summary of the Year'),\n",
              " ('NEXRAD2', 'Weather Radar (Level II)'),\n",
              " ('NEXRAD3', 'Weather Radar (Level III)'),\n",
              " ('NORMAL_ANN', 'Normals Annual/Seasonal'),\n",
              " ('NORMAL_DLY', 'Normals Daily'),\n",
              " ('NORMAL_HLY', 'Normals Hourly'),\n",
              " ('NORMAL_MLY', 'Normals Monthly'),\n",
              " ('PRECIP_15', 'Precipitation 15 Minute'),\n",
              " ('PRECIP_HLY', 'Precipitation Hourly')]"
            ]
          },
          "metadata": {},
          "execution_count": 118
        }
      ]
    },
    {
      "cell_type": "markdown",
      "source": [
        "# Figure out which data category we want\n",
        "\n",
        "The GHCND data containing daily summaries is what we want. Now we need to make another request to figure out which data categories we want to collect. This is the\n",
        "datacategories endpoint. We have to pass the datasetid for GHCND as the payload so the API knows which dataset we are asking about:"
      ],
      "metadata": {
        "id": "YiLxUuT2RVJd"
      }
    },
    {
      "cell_type": "code",
      "source": [
        "# get data category id\n",
        "response = make_request(\n",
        " 'datacategories',\n",
        " payload={\n",
        " 'datasetid' : 'GHCND'\n",
        " }\n",
        ")\n",
        "response.status_code\n"
      ],
      "metadata": {
        "colab": {
          "base_uri": "https://localhost:8080/"
        },
        "id": "mLSsuKegMtXi",
        "outputId": "438b031a-60f0-4078-bab2-271d3d6e36f4"
      },
      "execution_count": 119,
      "outputs": [
        {
          "output_type": "execute_result",
          "data": {
            "text/plain": [
              "200"
            ]
          },
          "metadata": {},
          "execution_count": 119
        }
      ]
    },
    {
      "cell_type": "markdown",
      "source": [
        "Since we know the API gives us a metadata and a results key in each response, we can see what is in the results portion of the JSON response:"
      ],
      "metadata": {
        "id": "F8-o8Fh_RdDe"
      }
    },
    {
      "cell_type": "code",
      "source": [
        "response.json()['results']"
      ],
      "metadata": {
        "colab": {
          "base_uri": "https://localhost:8080/"
        },
        "id": "w7EbPFU7Mwwf",
        "outputId": "11326734-774f-489c-8f5c-4263aa9f7f89"
      },
      "execution_count": 120,
      "outputs": [
        {
          "output_type": "execute_result",
          "data": {
            "text/plain": [
              "[{'name': 'Evaporation', 'id': 'EVAP'},\n",
              " {'name': 'Land', 'id': 'LAND'},\n",
              " {'name': 'Precipitation', 'id': 'PRCP'},\n",
              " {'name': 'Sky cover & clouds', 'id': 'SKY'},\n",
              " {'name': 'Sunshine', 'id': 'SUN'},\n",
              " {'name': 'Air Temperature', 'id': 'TEMP'},\n",
              " {'name': 'Water', 'id': 'WATER'},\n",
              " {'name': 'Wind', 'id': 'WIND'},\n",
              " {'name': 'Weather Type', 'id': 'WXTYPE'}]"
            ]
          },
          "metadata": {},
          "execution_count": 120
        }
      ]
    },
    {
      "cell_type": "markdown",
      "source": [
        "# Grab the data type ID for the Temperature category\n",
        "We will be working with temperatures, so we want the TEMP data category. Now, we need to find the datatypes to collect. For this, we use the datatypes endpoint and\n",
        "provide the datacategoryid which was TEMP . We also specify a limit for the number of datatypes to return with the payload. If there are more than this we can make\n",
        "another request later, but for now, we just want to pick a few out:"
      ],
      "metadata": {
        "id": "3cyldk3bRjsz"
      }
    },
    {
      "cell_type": "code",
      "source": [
        "# get data type id\n",
        "response = make_request(\n",
        " 'datatypes',\n",
        " payload={\n",
        " 'datacategoryid' : 'TEMP',\n",
        " 'limit' : 10\n",
        " }\n",
        ")\n",
        "response.status_code"
      ],
      "metadata": {
        "colab": {
          "base_uri": "https://localhost:8080/"
        },
        "id": "SL5wf2pWMy3M",
        "outputId": "e2f3bcac-1c89-4817-d19b-1182c22a16d8"
      },
      "execution_count": 121,
      "outputs": [
        {
          "output_type": "execute_result",
          "data": {
            "text/plain": [
              "200"
            ]
          },
          "metadata": {},
          "execution_count": 121
        }
      ]
    },
    {
      "cell_type": "markdown",
      "source": [
        "We can grab the id and name fields for each of the entries in the results portion of the data. The fields we are interested in are at the bottom:"
      ],
      "metadata": {
        "id": "PtDFL5UBRpbm"
      }
    },
    {
      "cell_type": "code",
      "source": [
        "response.json()['results']"
      ],
      "metadata": {
        "colab": {
          "base_uri": "https://localhost:8080/"
        },
        "id": "ZNRjFSw9YUVS",
        "outputId": "9d00cc79-db2e-4131-d5a4-331bf3681e82"
      },
      "execution_count": 122,
      "outputs": [
        {
          "output_type": "execute_result",
          "data": {
            "text/plain": [
              "[{'mindate': '1763-01-01',\n",
              "  'maxdate': '2024-02-01',\n",
              "  'name': 'Cooling Degree Days Season to Date',\n",
              "  'datacoverage': 1,\n",
              "  'id': 'CDSD'},\n",
              " {'mindate': '1750-02-01',\n",
              "  'maxdate': '2023-12-31',\n",
              "  'name': 'Number of days included in the multiday minimum temperature (MDTN)',\n",
              "  'datacoverage': 1,\n",
              "  'id': 'DATN'},\n",
              " {'mindate': '1750-02-01',\n",
              "  'maxdate': '2023-12-31',\n",
              "  'name': 'Number of days included in the multiday maximum temperature (MDTX)',\n",
              "  'datacoverage': 1,\n",
              "  'id': 'DATX'},\n",
              " {'mindate': '2010-01-01',\n",
              "  'maxdate': '2010-12-31',\n",
              "  'name': 'Long-term averages of daily diurnal temperature range',\n",
              "  'datacoverage': 1,\n",
              "  'id': 'DLY-DUTR-NORMAL'},\n",
              " {'mindate': '2010-01-01',\n",
              "  'maxdate': '2010-12-31',\n",
              "  'name': 'Long-term standard deviations of daily diurnal temperature range',\n",
              "  'datacoverage': 1,\n",
              "  'id': 'DLY-DUTR-STDDEV'},\n",
              " {'mindate': '2010-01-01',\n",
              "  'maxdate': '2010-12-31',\n",
              "  'name': 'Long-term averages of daily average temperature',\n",
              "  'datacoverage': 1,\n",
              "  'id': 'DLY-TAVG-NORMAL'},\n",
              " {'mindate': '2010-01-01',\n",
              "  'maxdate': '2010-12-31',\n",
              "  'name': 'Long-term standard deviations of daily average temperature',\n",
              "  'datacoverage': 1,\n",
              "  'id': 'DLY-TAVG-STDDEV'},\n",
              " {'mindate': '2010-01-01',\n",
              "  'maxdate': '2010-12-31',\n",
              "  'name': 'Long-term averages of daily maximum temperature',\n",
              "  'datacoverage': 1,\n",
              "  'id': 'DLY-TMAX-NORMAL'},\n",
              " {'mindate': '2010-01-01',\n",
              "  'maxdate': '2010-12-31',\n",
              "  'name': 'Long-term standard deviations of daily maximum temperature',\n",
              "  'datacoverage': 1,\n",
              "  'id': 'DLY-TMAX-STDDEV'},\n",
              " {'mindate': '2010-01-01',\n",
              "  'maxdate': '2010-12-31',\n",
              "  'name': 'Long-term averages of daily minimum temperature',\n",
              "  'datacoverage': 1,\n",
              "  'id': 'DLY-TMIN-NORMAL'}]"
            ]
          },
          "metadata": {},
          "execution_count": 122
        }
      ]
    },
    {
      "cell_type": "code",
      "source": [
        "len([(datatype['id'], datatype['name']) for datatype in response.json()['results']])# look at the last 5"
      ],
      "metadata": {
        "colab": {
          "base_uri": "https://localhost:8080/"
        },
        "id": "R1KkrfteUP7E",
        "outputId": "517c176b-8ed7-4498-bd79-0e51674b6aa7"
      },
      "execution_count": 123,
      "outputs": [
        {
          "output_type": "execute_result",
          "data": {
            "text/plain": [
              "10"
            ]
          },
          "metadata": {},
          "execution_count": 123
        }
      ]
    },
    {
      "cell_type": "code",
      "source": [
        "[(datatype['id'], datatype['name']) for datatype in response.json()['results']][0:2] # look at the last 5"
      ],
      "metadata": {
        "colab": {
          "base_uri": "https://localhost:8080/"
        },
        "id": "1yXrmC8yWrDo",
        "outputId": "4978ae32-4650-4fd5-a079-d902195459e7"
      },
      "execution_count": 124,
      "outputs": [
        {
          "output_type": "execute_result",
          "data": {
            "text/plain": [
              "[('CDSD', 'Cooling Degree Days Season to Date'),\n",
              " ('DATN',\n",
              "  'Number of days included in the multiday minimum temperature (MDTN)')]"
            ]
          },
          "metadata": {},
          "execution_count": 124
        }
      ]
    },
    {
      "cell_type": "code",
      "source": [
        "[(datatype['id'], datatype['name']) for datatype in response.json()['results']][-5:] # look at the last 5"
      ],
      "metadata": {
        "colab": {
          "base_uri": "https://localhost:8080/"
        },
        "id": "JOaekfyDM2CC",
        "outputId": "97eb556c-d148-4315-a78c-5b2215777a65"
      },
      "execution_count": 125,
      "outputs": [
        {
          "output_type": "execute_result",
          "data": {
            "text/plain": [
              "[('DLY-TAVG-NORMAL', 'Long-term averages of daily average temperature'),\n",
              " ('DLY-TAVG-STDDEV',\n",
              "  'Long-term standard deviations of daily average temperature'),\n",
              " ('DLY-TMAX-NORMAL', 'Long-term averages of daily maximum temperature'),\n",
              " ('DLY-TMAX-STDDEV',\n",
              "  'Long-term standard deviations of daily maximum temperature'),\n",
              " ('DLY-TMIN-NORMAL', 'Long-term averages of daily minimum temperature')]"
            ]
          },
          "metadata": {},
          "execution_count": 125
        }
      ]
    },
    {
      "cell_type": "markdown",
      "source": [
        "# Determine which Location Category we want\n",
        "Now that we know which datatypes we will be collecting, we need to find the location to use. First, we need to figure out the location category. This is obtained from the\n",
        "locationcategories endpoint by passing the datasetid :"
      ],
      "metadata": {
        "id": "l0wenlNjRtmy"
      }
    },
    {
      "cell_type": "code",
      "source": [
        "# get location category id\n",
        "response = make_request(\n",
        " 'locationcategories',\n",
        " {\n",
        " 'datasetid' : 'GHCND'\n",
        " }\n",
        ")\n",
        "response.status_code"
      ],
      "metadata": {
        "colab": {
          "base_uri": "https://localhost:8080/"
        },
        "id": "7tzq-yziM7Ph",
        "outputId": "28829af8-cf33-4e0e-8648-d3865dd8178a"
      },
      "execution_count": 126,
      "outputs": [
        {
          "output_type": "execute_result",
          "data": {
            "text/plain": [
              "200"
            ]
          },
          "metadata": {},
          "execution_count": 126
        }
      ]
    },
    {
      "cell_type": "markdown",
      "source": [
        "We can use pprint to print dictionaries in an easier-to-read format. After doing so, we can see there are 12 different location categories, but we are only interested in\n",
        "CITY :"
      ],
      "metadata": {
        "id": "JmUaMQZKR-xA"
      }
    },
    {
      "cell_type": "code",
      "source": [
        "\n",
        "import pprint\n",
        "pprint.pprint(response.json())"
      ],
      "metadata": {
        "colab": {
          "base_uri": "https://localhost:8080/"
        },
        "id": "OlihgJBONFr7",
        "outputId": "eb2edb73-8c44-4fb3-9a11-fffb42951df2"
      },
      "execution_count": 127,
      "outputs": [
        {
          "output_type": "stream",
          "name": "stdout",
          "text": [
            "{'metadata': {'resultset': {'count': 12, 'limit': 25, 'offset': 1}},\n",
            " 'results': [{'id': 'CITY', 'name': 'City'},\n",
            "             {'id': 'CLIM_DIV', 'name': 'Climate Division'},\n",
            "             {'id': 'CLIM_REG', 'name': 'Climate Region'},\n",
            "             {'id': 'CNTRY', 'name': 'Country'},\n",
            "             {'id': 'CNTY', 'name': 'County'},\n",
            "             {'id': 'HYD_ACC', 'name': 'Hydrologic Accounting Unit'},\n",
            "             {'id': 'HYD_CAT', 'name': 'Hydrologic Cataloging Unit'},\n",
            "             {'id': 'HYD_REG', 'name': 'Hydrologic Region'},\n",
            "             {'id': 'HYD_SUB', 'name': 'Hydrologic Subregion'},\n",
            "             {'id': 'ST', 'name': 'State'},\n",
            "             {'id': 'US_TERR', 'name': 'US Territory'},\n",
            "             {'id': 'ZIP', 'name': 'Zip Code'}]}\n"
          ]
        }
      ]
    },
    {
      "cell_type": "markdown",
      "source": [
        "# Get NYC Location ID\n",
        "In order to find the location ID for New York, we need to search through all the cities available. Since we can ask the API to return the cities sorted, we can use binary search\n",
        "to find New York quickly without having to make many requests or request lots of data at once. The following function makes the first request to see how big the list of cities\n",
        "is and looks at the first value. From there it decides if it needs to move towards the beginning or end of the list by comparing the city we are looking for to others\n",
        "alphabetically. Each time it makes a request it can rule out half of the remaining data to search."
      ],
      "metadata": {
        "id": "OJiKz1aoSBEs"
      }
    },
    {
      "cell_type": "code",
      "source": [
        "def get_item(name, what, endpoint, start=1, end=None):\n",
        " \"\"\"\n",
        " Grab the JSON payload for a given field by name using binary search.\n",
        " Parameters:\n",
        " - name: The item to look for.\n",
        " - what: Dictionary specifying what the item in `name` is.\n",
        " - endpoint: Where to look for the item.\n",
        " - start: The position to start at. We don't need to touch this, but the\n",
        " function will manipulate this with recursion.\n",
        " - end: The last position of the cities. Used to find the midpoint, but\n",
        " like `start` this is not something we need to worry about.\n",
        " Returns:\n",
        " Dictionary of the information for the item if found otherwise\n",
        " an empty dictionary.\n",
        " \"\"\"\n",
        " # find the midpoint which we use to cut the data in half each time\n",
        " mid = (start + (end if end else 1)) // 2\n",
        "\n",
        " # lowercase the name so this is not case-sensitive\n",
        " name = name.lower()\n",
        "\n",
        " # define the payload we will send with each request\n",
        " payload = {\n",
        " 'datasetid' : 'GHCND',\n",
        " 'sortfield' : 'name',\n",
        " 'offset' : mid, # we will change the offset each time\n",
        " 'limit' : 1 # we only want one value back\n",
        " }\n",
        "\n",
        " # make our request adding any additional filter parameters from `what`\n",
        " response = make_request(endpoint, {**payload, **what})\n",
        "\n",
        " if response.ok:\n",
        " # if response is ok, grab the end index from the response metadata the first time through\n",
        "  end = end if end else response.json()['metadata']['resultset']['count']\n",
        "\n",
        " # grab the lowercase version of the current name\n",
        "  current_name = response.json()['results'][0]['name'].lower()\n",
        "\n",
        " # if what we are searching for is in the current name, we have found our item\n",
        "  if name in current_name:\n",
        "    return response.json()['results'][0] # return the found item\n",
        "\n",
        "  else:\n",
        "    if start >= end:\n",
        " # if our start index is greater than or equal to our end, we couldn't find it\n",
        "      return {}\n",
        "    elif name < current_name:\n",
        " # our name comes before the current name in the alphabet, so we search further to the left\n",
        "      return get_item(name, what, endpoint, start, mid - 1)\n",
        "    elif name > current_name:\n",
        " # our name comes after the current name in the alphabet, so we search further to the right\n",
        "      return get_item(name, what, endpoint, mid + 1, end)\n",
        " else:\n",
        " # response wasn't ok, use code to determine why\n",
        "   print(f'Response not OK, status: {response.status_code}')\n",
        "def get_location(name):\n",
        " \"\"\"\n",
        " Grab the JSON payload for the location by name using binary search.\n",
        " Parameters:\n",
        " - name: The city to look for.\n",
        " Returns:\n",
        " Dictionary of the information for the city if found otherwise\n",
        " an empty dictionary.\n",
        " \"\"\"\n",
        " return get_item(name, {'locationcategoryid' : 'CITY'}, 'locations')"
      ],
      "metadata": {
        "id": "3ZdRlw9rNH21"
      },
      "execution_count": 128,
      "outputs": []
    },
    {
      "cell_type": "markdown",
      "source": [
        "When we use binary search to find New York, we find it in just 8 requests despite it being close to the middle of 1,983 entries:\n"
      ],
      "metadata": {
        "id": "xG1w-U_DSJM_"
      }
    },
    {
      "cell_type": "code",
      "source": [
        "# get NYC id\n",
        "nyc = get_location('New York')\n",
        "nyc"
      ],
      "metadata": {
        "colab": {
          "base_uri": "https://localhost:8080/"
        },
        "id": "OkVbgi6-N7Tz",
        "outputId": "d8012437-70ce-4b23-a344-456226919993"
      },
      "execution_count": 129,
      "outputs": [
        {
          "output_type": "execute_result",
          "data": {
            "text/plain": [
              "{'mindate': '1869-01-01',\n",
              " 'maxdate': '2024-03-11',\n",
              " 'name': 'New York, NY US',\n",
              " 'datacoverage': 1,\n",
              " 'id': 'CITY:US360019'}"
            ]
          },
          "metadata": {},
          "execution_count": 129
        }
      ]
    },
    {
      "cell_type": "code",
      "source": [
        "nycs = get_location('Manila')\n",
        "nycs"
      ],
      "metadata": {
        "colab": {
          "base_uri": "https://localhost:8080/"
        },
        "id": "qRNGgrjaZ17K",
        "outputId": "7756af6c-07fb-43a4-f229-058434ca27f7"
      },
      "execution_count": 130,
      "outputs": [
        {
          "output_type": "execute_result",
          "data": {
            "text/plain": [
              "{'mindate': '1945-03-01',\n",
              " 'maxdate': '2024-03-10',\n",
              " 'name': 'Manila, RP',\n",
              " 'datacoverage': 1,\n",
              " 'id': 'CITY:RP000002'}"
            ]
          },
          "metadata": {},
          "execution_count": 130
        }
      ]
    },
    {
      "cell_type": "markdown",
      "source": [
        "# Get the station ID for Central Park\n",
        "\n",
        "The most granular data is found at the station level:"
      ],
      "metadata": {
        "id": "zigJwBueSN94"
      }
    },
    {
      "cell_type": "code",
      "source": [
        "central_park = get_item('NY City Central Park', {'locationid' : nyc['id']}, 'stations')\n",
        "central_park"
      ],
      "metadata": {
        "id": "NDFQGT4iN9cu",
        "colab": {
          "base_uri": "https://localhost:8080/"
        },
        "outputId": "a233ab62-10bc-4679-fa48-0f2e000ee1bc"
      },
      "execution_count": 131,
      "outputs": [
        {
          "output_type": "execute_result",
          "data": {
            "text/plain": [
              "{'elevation': 42.7,\n",
              " 'mindate': '1869-01-01',\n",
              " 'maxdate': '2024-03-10',\n",
              " 'latitude': 40.77898,\n",
              " 'name': 'NY CITY CENTRAL PARK, NY US',\n",
              " 'datacoverage': 1,\n",
              " 'id': 'GHCND:USW00094728',\n",
              " 'elevationUnit': 'METERS',\n",
              " 'longitude': -73.96925}"
            ]
          },
          "metadata": {},
          "execution_count": 131
        }
      ]
    },
    {
      "cell_type": "markdown",
      "source": [
        "# Request the temperature data\n",
        "\n",
        "Finally, we have everything we need to make our request for the New York temperature data. For this we use the data endpoint and provide all the parameters we picked up\n",
        "throughout our exploration of the API:"
      ],
      "metadata": {
        "id": "w1PBkZQHSSkF"
      }
    },
    {
      "cell_type": "code",
      "source": [
        "\n",
        "# get NYC daily summaries data\n",
        "response = make_request(\n",
        " 'data',\n",
        " {\n",
        " 'datasetid' : 'GHCND',\n",
        " 'stationid' : central_park['id'],\n",
        " 'locationid' : nyc['id'],\n",
        " 'startdate' : '2018-10-01',\n",
        " 'enddate' : '2018-10-31',\n",
        " 'datatypeid' : ['TMIN', 'TMAX', 'TOBS'], # temperature at time of observation, min, and max\n",
        " 'units' : 'metric',\n",
        " 'limit' : 1000\n",
        " }\n",
        ")\n",
        "response.status_code"
      ],
      "metadata": {
        "colab": {
          "base_uri": "https://localhost:8080/"
        },
        "id": "h5nTLSQ6OAsQ",
        "outputId": "b60060b8-59b4-49c3-e9d8-203651f9c174"
      },
      "execution_count": 132,
      "outputs": [
        {
          "output_type": "execute_result",
          "data": {
            "text/plain": [
              "200"
            ]
          },
          "metadata": {},
          "execution_count": 132
        }
      ]
    },
    {
      "cell_type": "markdown",
      "source": [
        "# Create a DataFrame\n",
        "The Central Park station only has the daily minimum and maximum temperatures."
      ],
      "metadata": {
        "id": "XiNFf42cSgIL"
      }
    },
    {
      "cell_type": "code",
      "source": [
        "import pandas as pd\n",
        "df = pd.DataFrame(response.json()['results'])\n",
        "df.head()\n"
      ],
      "metadata": {
        "colab": {
          "base_uri": "https://localhost:8080/",
          "height": 206
        },
        "id": "tj8hhdbsODY1",
        "outputId": "3734087d-77d4-42f6-8013-2a4b2c1d7ec0"
      },
      "execution_count": 133,
      "outputs": [
        {
          "output_type": "execute_result",
          "data": {
            "text/plain": [
              "                  date datatype            station attributes  value\n",
              "0  2018-10-01T00:00:00     TMAX  GHCND:USW00094728   ,,W,2400   24.4\n",
              "1  2018-10-01T00:00:00     TMIN  GHCND:USW00094728   ,,W,2400   17.2\n",
              "2  2018-10-02T00:00:00     TMAX  GHCND:USW00094728   ,,W,2400   25.0\n",
              "3  2018-10-02T00:00:00     TMIN  GHCND:USW00094728   ,,W,2400   18.3\n",
              "4  2018-10-03T00:00:00     TMAX  GHCND:USW00094728   ,,W,2400   23.3"
            ],
            "text/html": [
              "\n",
              "  <div id=\"df-616c1072-ba78-4113-a2a7-209cc0f404cb\" class=\"colab-df-container\">\n",
              "    <div>\n",
              "<style scoped>\n",
              "    .dataframe tbody tr th:only-of-type {\n",
              "        vertical-align: middle;\n",
              "    }\n",
              "\n",
              "    .dataframe tbody tr th {\n",
              "        vertical-align: top;\n",
              "    }\n",
              "\n",
              "    .dataframe thead th {\n",
              "        text-align: right;\n",
              "    }\n",
              "</style>\n",
              "<table border=\"1\" class=\"dataframe\">\n",
              "  <thead>\n",
              "    <tr style=\"text-align: right;\">\n",
              "      <th></th>\n",
              "      <th>date</th>\n",
              "      <th>datatype</th>\n",
              "      <th>station</th>\n",
              "      <th>attributes</th>\n",
              "      <th>value</th>\n",
              "    </tr>\n",
              "  </thead>\n",
              "  <tbody>\n",
              "    <tr>\n",
              "      <th>0</th>\n",
              "      <td>2018-10-01T00:00:00</td>\n",
              "      <td>TMAX</td>\n",
              "      <td>GHCND:USW00094728</td>\n",
              "      <td>,,W,2400</td>\n",
              "      <td>24.4</td>\n",
              "    </tr>\n",
              "    <tr>\n",
              "      <th>1</th>\n",
              "      <td>2018-10-01T00:00:00</td>\n",
              "      <td>TMIN</td>\n",
              "      <td>GHCND:USW00094728</td>\n",
              "      <td>,,W,2400</td>\n",
              "      <td>17.2</td>\n",
              "    </tr>\n",
              "    <tr>\n",
              "      <th>2</th>\n",
              "      <td>2018-10-02T00:00:00</td>\n",
              "      <td>TMAX</td>\n",
              "      <td>GHCND:USW00094728</td>\n",
              "      <td>,,W,2400</td>\n",
              "      <td>25.0</td>\n",
              "    </tr>\n",
              "    <tr>\n",
              "      <th>3</th>\n",
              "      <td>2018-10-02T00:00:00</td>\n",
              "      <td>TMIN</td>\n",
              "      <td>GHCND:USW00094728</td>\n",
              "      <td>,,W,2400</td>\n",
              "      <td>18.3</td>\n",
              "    </tr>\n",
              "    <tr>\n",
              "      <th>4</th>\n",
              "      <td>2018-10-03T00:00:00</td>\n",
              "      <td>TMAX</td>\n",
              "      <td>GHCND:USW00094728</td>\n",
              "      <td>,,W,2400</td>\n",
              "      <td>23.3</td>\n",
              "    </tr>\n",
              "  </tbody>\n",
              "</table>\n",
              "</div>\n",
              "    <div class=\"colab-df-buttons\">\n",
              "\n",
              "  <div class=\"colab-df-container\">\n",
              "    <button class=\"colab-df-convert\" onclick=\"convertToInteractive('df-616c1072-ba78-4113-a2a7-209cc0f404cb')\"\n",
              "            title=\"Convert this dataframe to an interactive table.\"\n",
              "            style=\"display:none;\">\n",
              "\n",
              "  <svg xmlns=\"http://www.w3.org/2000/svg\" height=\"24px\" viewBox=\"0 -960 960 960\">\n",
              "    <path d=\"M120-120v-720h720v720H120Zm60-500h600v-160H180v160Zm220 220h160v-160H400v160Zm0 220h160v-160H400v160ZM180-400h160v-160H180v160Zm440 0h160v-160H620v160ZM180-180h160v-160H180v160Zm440 0h160v-160H620v160Z\"/>\n",
              "  </svg>\n",
              "    </button>\n",
              "\n",
              "  <style>\n",
              "    .colab-df-container {\n",
              "      display:flex;\n",
              "      gap: 12px;\n",
              "    }\n",
              "\n",
              "    .colab-df-convert {\n",
              "      background-color: #E8F0FE;\n",
              "      border: none;\n",
              "      border-radius: 50%;\n",
              "      cursor: pointer;\n",
              "      display: none;\n",
              "      fill: #1967D2;\n",
              "      height: 32px;\n",
              "      padding: 0 0 0 0;\n",
              "      width: 32px;\n",
              "    }\n",
              "\n",
              "    .colab-df-convert:hover {\n",
              "      background-color: #E2EBFA;\n",
              "      box-shadow: 0px 1px 2px rgba(60, 64, 67, 0.3), 0px 1px 3px 1px rgba(60, 64, 67, 0.15);\n",
              "      fill: #174EA6;\n",
              "    }\n",
              "\n",
              "    .colab-df-buttons div {\n",
              "      margin-bottom: 4px;\n",
              "    }\n",
              "\n",
              "    [theme=dark] .colab-df-convert {\n",
              "      background-color: #3B4455;\n",
              "      fill: #D2E3FC;\n",
              "    }\n",
              "\n",
              "    [theme=dark] .colab-df-convert:hover {\n",
              "      background-color: #434B5C;\n",
              "      box-shadow: 0px 1px 3px 1px rgba(0, 0, 0, 0.15);\n",
              "      filter: drop-shadow(0px 1px 2px rgba(0, 0, 0, 0.3));\n",
              "      fill: #FFFFFF;\n",
              "    }\n",
              "  </style>\n",
              "\n",
              "    <script>\n",
              "      const buttonEl =\n",
              "        document.querySelector('#df-616c1072-ba78-4113-a2a7-209cc0f404cb button.colab-df-convert');\n",
              "      buttonEl.style.display =\n",
              "        google.colab.kernel.accessAllowed ? 'block' : 'none';\n",
              "\n",
              "      async function convertToInteractive(key) {\n",
              "        const element = document.querySelector('#df-616c1072-ba78-4113-a2a7-209cc0f404cb');\n",
              "        const dataTable =\n",
              "          await google.colab.kernel.invokeFunction('convertToInteractive',\n",
              "                                                    [key], {});\n",
              "        if (!dataTable) return;\n",
              "\n",
              "        const docLinkHtml = 'Like what you see? Visit the ' +\n",
              "          '<a target=\"_blank\" href=https://colab.research.google.com/notebooks/data_table.ipynb>data table notebook</a>'\n",
              "          + ' to learn more about interactive tables.';\n",
              "        element.innerHTML = '';\n",
              "        dataTable['output_type'] = 'display_data';\n",
              "        await google.colab.output.renderOutput(dataTable, element);\n",
              "        const docLink = document.createElement('div');\n",
              "        docLink.innerHTML = docLinkHtml;\n",
              "        element.appendChild(docLink);\n",
              "      }\n",
              "    </script>\n",
              "  </div>\n",
              "\n",
              "\n",
              "<div id=\"df-3a4ae3ca-9d88-4aef-9c97-2fec32758caa\">\n",
              "  <button class=\"colab-df-quickchart\" onclick=\"quickchart('df-3a4ae3ca-9d88-4aef-9c97-2fec32758caa')\"\n",
              "            title=\"Suggest charts\"\n",
              "            style=\"display:none;\">\n",
              "\n",
              "<svg xmlns=\"http://www.w3.org/2000/svg\" height=\"24px\"viewBox=\"0 0 24 24\"\n",
              "     width=\"24px\">\n",
              "    <g>\n",
              "        <path d=\"M19 3H5c-1.1 0-2 .9-2 2v14c0 1.1.9 2 2 2h14c1.1 0 2-.9 2-2V5c0-1.1-.9-2-2-2zM9 17H7v-7h2v7zm4 0h-2V7h2v10zm4 0h-2v-4h2v4z\"/>\n",
              "    </g>\n",
              "</svg>\n",
              "  </button>\n",
              "\n",
              "<style>\n",
              "  .colab-df-quickchart {\n",
              "      --bg-color: #E8F0FE;\n",
              "      --fill-color: #1967D2;\n",
              "      --hover-bg-color: #E2EBFA;\n",
              "      --hover-fill-color: #174EA6;\n",
              "      --disabled-fill-color: #AAA;\n",
              "      --disabled-bg-color: #DDD;\n",
              "  }\n",
              "\n",
              "  [theme=dark] .colab-df-quickchart {\n",
              "      --bg-color: #3B4455;\n",
              "      --fill-color: #D2E3FC;\n",
              "      --hover-bg-color: #434B5C;\n",
              "      --hover-fill-color: #FFFFFF;\n",
              "      --disabled-bg-color: #3B4455;\n",
              "      --disabled-fill-color: #666;\n",
              "  }\n",
              "\n",
              "  .colab-df-quickchart {\n",
              "    background-color: var(--bg-color);\n",
              "    border: none;\n",
              "    border-radius: 50%;\n",
              "    cursor: pointer;\n",
              "    display: none;\n",
              "    fill: var(--fill-color);\n",
              "    height: 32px;\n",
              "    padding: 0;\n",
              "    width: 32px;\n",
              "  }\n",
              "\n",
              "  .colab-df-quickchart:hover {\n",
              "    background-color: var(--hover-bg-color);\n",
              "    box-shadow: 0 1px 2px rgba(60, 64, 67, 0.3), 0 1px 3px 1px rgba(60, 64, 67, 0.15);\n",
              "    fill: var(--button-hover-fill-color);\n",
              "  }\n",
              "\n",
              "  .colab-df-quickchart-complete:disabled,\n",
              "  .colab-df-quickchart-complete:disabled:hover {\n",
              "    background-color: var(--disabled-bg-color);\n",
              "    fill: var(--disabled-fill-color);\n",
              "    box-shadow: none;\n",
              "  }\n",
              "\n",
              "  .colab-df-spinner {\n",
              "    border: 2px solid var(--fill-color);\n",
              "    border-color: transparent;\n",
              "    border-bottom-color: var(--fill-color);\n",
              "    animation:\n",
              "      spin 1s steps(1) infinite;\n",
              "  }\n",
              "\n",
              "  @keyframes spin {\n",
              "    0% {\n",
              "      border-color: transparent;\n",
              "      border-bottom-color: var(--fill-color);\n",
              "      border-left-color: var(--fill-color);\n",
              "    }\n",
              "    20% {\n",
              "      border-color: transparent;\n",
              "      border-left-color: var(--fill-color);\n",
              "      border-top-color: var(--fill-color);\n",
              "    }\n",
              "    30% {\n",
              "      border-color: transparent;\n",
              "      border-left-color: var(--fill-color);\n",
              "      border-top-color: var(--fill-color);\n",
              "      border-right-color: var(--fill-color);\n",
              "    }\n",
              "    40% {\n",
              "      border-color: transparent;\n",
              "      border-right-color: var(--fill-color);\n",
              "      border-top-color: var(--fill-color);\n",
              "    }\n",
              "    60% {\n",
              "      border-color: transparent;\n",
              "      border-right-color: var(--fill-color);\n",
              "    }\n",
              "    80% {\n",
              "      border-color: transparent;\n",
              "      border-right-color: var(--fill-color);\n",
              "      border-bottom-color: var(--fill-color);\n",
              "    }\n",
              "    90% {\n",
              "      border-color: transparent;\n",
              "      border-bottom-color: var(--fill-color);\n",
              "    }\n",
              "  }\n",
              "</style>\n",
              "\n",
              "  <script>\n",
              "    async function quickchart(key) {\n",
              "      const quickchartButtonEl =\n",
              "        document.querySelector('#' + key + ' button');\n",
              "      quickchartButtonEl.disabled = true;  // To prevent multiple clicks.\n",
              "      quickchartButtonEl.classList.add('colab-df-spinner');\n",
              "      try {\n",
              "        const charts = await google.colab.kernel.invokeFunction(\n",
              "            'suggestCharts', [key], {});\n",
              "      } catch (error) {\n",
              "        console.error('Error during call to suggestCharts:', error);\n",
              "      }\n",
              "      quickchartButtonEl.classList.remove('colab-df-spinner');\n",
              "      quickchartButtonEl.classList.add('colab-df-quickchart-complete');\n",
              "    }\n",
              "    (() => {\n",
              "      let quickchartButtonEl =\n",
              "        document.querySelector('#df-3a4ae3ca-9d88-4aef-9c97-2fec32758caa button');\n",
              "      quickchartButtonEl.style.display =\n",
              "        google.colab.kernel.accessAllowed ? 'block' : 'none';\n",
              "    })();\n",
              "  </script>\n",
              "</div>\n",
              "    </div>\n",
              "  </div>\n"
            ],
            "application/vnd.google.colaboratory.intrinsic+json": {
              "type": "dataframe",
              "variable_name": "df",
              "summary": "{\n  \"name\": \"df\",\n  \"rows\": 62,\n  \"fields\": [\n    {\n      \"column\": \"date\",\n      \"properties\": {\n        \"dtype\": \"object\",\n        \"num_unique_values\": 31,\n        \"samples\": [\n          \"2018-10-28T00:00:00\",\n          \"2018-10-16T00:00:00\",\n          \"2018-10-24T00:00:00\"\n        ],\n        \"semantic_type\": \"\",\n        \"description\": \"\"\n      }\n    },\n    {\n      \"column\": \"datatype\",\n      \"properties\": {\n        \"dtype\": \"category\",\n        \"num_unique_values\": 2,\n        \"samples\": [\n          \"TMIN\",\n          \"TMAX\"\n        ],\n        \"semantic_type\": \"\",\n        \"description\": \"\"\n      }\n    },\n    {\n      \"column\": \"station\",\n      \"properties\": {\n        \"dtype\": \"category\",\n        \"num_unique_values\": 1,\n        \"samples\": [\n          \"GHCND:USW00094728\"\n        ],\n        \"semantic_type\": \"\",\n        \"description\": \"\"\n      }\n    },\n    {\n      \"column\": \"attributes\",\n      \"properties\": {\n        \"dtype\": \"category\",\n        \"num_unique_values\": 1,\n        \"samples\": [\n          \",,W,2400\"\n        ],\n        \"semantic_type\": \"\",\n        \"description\": \"\"\n      }\n    },\n    {\n      \"column\": \"value\",\n      \"properties\": {\n        \"dtype\": \"number\",\n        \"std\": 6.573912032246916,\n        \"min\": 3.3,\n        \"max\": 26.7,\n        \"num_unique_values\": 33,\n        \"samples\": [\n          7.2\n        ],\n        \"semantic_type\": \"\",\n        \"description\": \"\"\n      }\n    }\n  ]\n}"
            }
          },
          "metadata": {},
          "execution_count": 133
        }
      ]
    },
    {
      "cell_type": "markdown",
      "source": [
        "We didn't get TOBS because the station doesn't measure that:"
      ],
      "metadata": {
        "id": "eB499S1BSktX"
      }
    },
    {
      "cell_type": "code",
      "source": [
        "df.datatype.unique()"
      ],
      "metadata": {
        "colab": {
          "base_uri": "https://localhost:8080/"
        },
        "id": "q57RYtFeOF7e",
        "outputId": "c8ab6e13-f866-4b61-b316-724bb496b482"
      },
      "execution_count": 134,
      "outputs": [
        {
          "output_type": "execute_result",
          "data": {
            "text/plain": [
              "array(['TMAX', 'TMIN'], dtype=object)"
            ]
          },
          "metadata": {},
          "execution_count": 134
        }
      ]
    },
    {
      "cell_type": "markdown",
      "source": [
        "Despite showing up in the data as measuring it... Real-world data is dirty!"
      ],
      "metadata": {
        "id": "MCXSgJ0wSnDh"
      }
    },
    {
      "cell_type": "code",
      "source": [
        "if get_item(\n",
        " 'NY City Central Park', {'locationid' : nyc['id'], 'datatypeid': 'TOBS'}, 'stations'\n",
        "):\n",
        "   print('Found!')\n"
      ],
      "metadata": {
        "colab": {
          "base_uri": "https://localhost:8080/"
        },
        "id": "UmWSDOWVONUT",
        "outputId": "1f50ad84-ad83-4b39-db8f-cf64eefdb963"
      },
      "execution_count": 135,
      "outputs": [
        {
          "output_type": "stream",
          "name": "stdout",
          "text": [
            "Found!\n"
          ]
        }
      ]
    },
    {
      "cell_type": "markdown",
      "source": [
        "# Using a different station\n",
        "Let's use LaGuardia airport instead. It contains TAVG (average daily temperature):"
      ],
      "metadata": {
        "id": "GqMYCDjQSpsC"
      }
    },
    {
      "cell_type": "code",
      "source": [
        "laguardia = get_item(\n",
        " 'LaGuardia', {'locationid' : nyc['id']}, 'stations'\n",
        ")\n",
        "laguardia"
      ],
      "metadata": {
        "colab": {
          "base_uri": "https://localhost:8080/"
        },
        "id": "rPbs22o7OT5x",
        "outputId": "b7f9d3a5-36ef-4fd7-8eb2-58a80ef80b0e"
      },
      "execution_count": 136,
      "outputs": [
        {
          "output_type": "execute_result",
          "data": {
            "text/plain": [
              "{'elevation': 3,\n",
              " 'mindate': '1939-10-07',\n",
              " 'maxdate': '2024-03-11',\n",
              " 'latitude': 40.77945,\n",
              " 'name': 'LAGUARDIA AIRPORT, NY US',\n",
              " 'datacoverage': 1,\n",
              " 'id': 'GHCND:USW00014732',\n",
              " 'elevationUnit': 'METERS',\n",
              " 'longitude': -73.88027}"
            ]
          },
          "metadata": {},
          "execution_count": 136
        }
      ]
    },
    {
      "cell_type": "markdown",
      "source": [
        "We make our request using the LaGuardia airport station this time and ask for TAVG instead of TOBS ."
      ],
      "metadata": {
        "id": "cqtepOiVSvQj"
      }
    },
    {
      "cell_type": "code",
      "source": [
        "# get NYC daily summaries data\n",
        "response = make_request(\n",
        " 'data',\n",
        " {\n",
        " 'datasetid' : 'GHCND',\n",
        " 'stationid' : laguardia['id'],\n",
        " 'locationid' : nyc['id'],\n",
        " 'startdate' : '2018-10-01',\n",
        " 'enddate' : '2018-10-31',\n",
        " 'datatypeid' : ['TMIN', 'TMAX', 'TAVG'], # temperature at time of observation, min, and max\n",
        " 'units' : 'metric',\n",
        " 'limit' : 1000\n",
        " }\n",
        ")\n",
        "response.status_code"
      ],
      "metadata": {
        "colab": {
          "base_uri": "https://localhost:8080/"
        },
        "id": "bwvXYBHIOWJA",
        "outputId": "56d847f6-d2ef-4727-ddd4-42d5eeac88d2"
      },
      "execution_count": 137,
      "outputs": [
        {
          "output_type": "execute_result",
          "data": {
            "text/plain": [
              "200"
            ]
          },
          "metadata": {},
          "execution_count": 137
        }
      ]
    },
    {
      "cell_type": "markdown",
      "source": [
        "The request was successful, so let's make a dataframe:"
      ],
      "metadata": {
        "id": "gqxkCdO1SxyQ"
      }
    },
    {
      "cell_type": "code",
      "source": [
        "df = pd.DataFrame(response.json()['results'])\n",
        "df.head()"
      ],
      "metadata": {
        "colab": {
          "base_uri": "https://localhost:8080/",
          "height": 206
        },
        "id": "a4ljKYl6Ob0S",
        "outputId": "0b5f5053-223d-4df2-9fc3-82656bf3f200"
      },
      "execution_count": 138,
      "outputs": [
        {
          "output_type": "execute_result",
          "data": {
            "text/plain": [
              "                  date datatype            station attributes  value\n",
              "0  2018-10-01T00:00:00     TAVG  GHCND:USW00014732      H,,S,   21.2\n",
              "1  2018-10-01T00:00:00     TMAX  GHCND:USW00014732   ,,W,2400   25.6\n",
              "2  2018-10-01T00:00:00     TMIN  GHCND:USW00014732   ,,W,2400   18.3\n",
              "3  2018-10-02T00:00:00     TAVG  GHCND:USW00014732      H,,S,   22.7\n",
              "4  2018-10-02T00:00:00     TMAX  GHCND:USW00014732   ,,W,2400   26.1"
            ],
            "text/html": [
              "\n",
              "  <div id=\"df-54d47324-7b87-46d9-bf70-f6254ec830fa\" class=\"colab-df-container\">\n",
              "    <div>\n",
              "<style scoped>\n",
              "    .dataframe tbody tr th:only-of-type {\n",
              "        vertical-align: middle;\n",
              "    }\n",
              "\n",
              "    .dataframe tbody tr th {\n",
              "        vertical-align: top;\n",
              "    }\n",
              "\n",
              "    .dataframe thead th {\n",
              "        text-align: right;\n",
              "    }\n",
              "</style>\n",
              "<table border=\"1\" class=\"dataframe\">\n",
              "  <thead>\n",
              "    <tr style=\"text-align: right;\">\n",
              "      <th></th>\n",
              "      <th>date</th>\n",
              "      <th>datatype</th>\n",
              "      <th>station</th>\n",
              "      <th>attributes</th>\n",
              "      <th>value</th>\n",
              "    </tr>\n",
              "  </thead>\n",
              "  <tbody>\n",
              "    <tr>\n",
              "      <th>0</th>\n",
              "      <td>2018-10-01T00:00:00</td>\n",
              "      <td>TAVG</td>\n",
              "      <td>GHCND:USW00014732</td>\n",
              "      <td>H,,S,</td>\n",
              "      <td>21.2</td>\n",
              "    </tr>\n",
              "    <tr>\n",
              "      <th>1</th>\n",
              "      <td>2018-10-01T00:00:00</td>\n",
              "      <td>TMAX</td>\n",
              "      <td>GHCND:USW00014732</td>\n",
              "      <td>,,W,2400</td>\n",
              "      <td>25.6</td>\n",
              "    </tr>\n",
              "    <tr>\n",
              "      <th>2</th>\n",
              "      <td>2018-10-01T00:00:00</td>\n",
              "      <td>TMIN</td>\n",
              "      <td>GHCND:USW00014732</td>\n",
              "      <td>,,W,2400</td>\n",
              "      <td>18.3</td>\n",
              "    </tr>\n",
              "    <tr>\n",
              "      <th>3</th>\n",
              "      <td>2018-10-02T00:00:00</td>\n",
              "      <td>TAVG</td>\n",
              "      <td>GHCND:USW00014732</td>\n",
              "      <td>H,,S,</td>\n",
              "      <td>22.7</td>\n",
              "    </tr>\n",
              "    <tr>\n",
              "      <th>4</th>\n",
              "      <td>2018-10-02T00:00:00</td>\n",
              "      <td>TMAX</td>\n",
              "      <td>GHCND:USW00014732</td>\n",
              "      <td>,,W,2400</td>\n",
              "      <td>26.1</td>\n",
              "    </tr>\n",
              "  </tbody>\n",
              "</table>\n",
              "</div>\n",
              "    <div class=\"colab-df-buttons\">\n",
              "\n",
              "  <div class=\"colab-df-container\">\n",
              "    <button class=\"colab-df-convert\" onclick=\"convertToInteractive('df-54d47324-7b87-46d9-bf70-f6254ec830fa')\"\n",
              "            title=\"Convert this dataframe to an interactive table.\"\n",
              "            style=\"display:none;\">\n",
              "\n",
              "  <svg xmlns=\"http://www.w3.org/2000/svg\" height=\"24px\" viewBox=\"0 -960 960 960\">\n",
              "    <path d=\"M120-120v-720h720v720H120Zm60-500h600v-160H180v160Zm220 220h160v-160H400v160Zm0 220h160v-160H400v160ZM180-400h160v-160H180v160Zm440 0h160v-160H620v160ZM180-180h160v-160H180v160Zm440 0h160v-160H620v160Z\"/>\n",
              "  </svg>\n",
              "    </button>\n",
              "\n",
              "  <style>\n",
              "    .colab-df-container {\n",
              "      display:flex;\n",
              "      gap: 12px;\n",
              "    }\n",
              "\n",
              "    .colab-df-convert {\n",
              "      background-color: #E8F0FE;\n",
              "      border: none;\n",
              "      border-radius: 50%;\n",
              "      cursor: pointer;\n",
              "      display: none;\n",
              "      fill: #1967D2;\n",
              "      height: 32px;\n",
              "      padding: 0 0 0 0;\n",
              "      width: 32px;\n",
              "    }\n",
              "\n",
              "    .colab-df-convert:hover {\n",
              "      background-color: #E2EBFA;\n",
              "      box-shadow: 0px 1px 2px rgba(60, 64, 67, 0.3), 0px 1px 3px 1px rgba(60, 64, 67, 0.15);\n",
              "      fill: #174EA6;\n",
              "    }\n",
              "\n",
              "    .colab-df-buttons div {\n",
              "      margin-bottom: 4px;\n",
              "    }\n",
              "\n",
              "    [theme=dark] .colab-df-convert {\n",
              "      background-color: #3B4455;\n",
              "      fill: #D2E3FC;\n",
              "    }\n",
              "\n",
              "    [theme=dark] .colab-df-convert:hover {\n",
              "      background-color: #434B5C;\n",
              "      box-shadow: 0px 1px 3px 1px rgba(0, 0, 0, 0.15);\n",
              "      filter: drop-shadow(0px 1px 2px rgba(0, 0, 0, 0.3));\n",
              "      fill: #FFFFFF;\n",
              "    }\n",
              "  </style>\n",
              "\n",
              "    <script>\n",
              "      const buttonEl =\n",
              "        document.querySelector('#df-54d47324-7b87-46d9-bf70-f6254ec830fa button.colab-df-convert');\n",
              "      buttonEl.style.display =\n",
              "        google.colab.kernel.accessAllowed ? 'block' : 'none';\n",
              "\n",
              "      async function convertToInteractive(key) {\n",
              "        const element = document.querySelector('#df-54d47324-7b87-46d9-bf70-f6254ec830fa');\n",
              "        const dataTable =\n",
              "          await google.colab.kernel.invokeFunction('convertToInteractive',\n",
              "                                                    [key], {});\n",
              "        if (!dataTable) return;\n",
              "\n",
              "        const docLinkHtml = 'Like what you see? Visit the ' +\n",
              "          '<a target=\"_blank\" href=https://colab.research.google.com/notebooks/data_table.ipynb>data table notebook</a>'\n",
              "          + ' to learn more about interactive tables.';\n",
              "        element.innerHTML = '';\n",
              "        dataTable['output_type'] = 'display_data';\n",
              "        await google.colab.output.renderOutput(dataTable, element);\n",
              "        const docLink = document.createElement('div');\n",
              "        docLink.innerHTML = docLinkHtml;\n",
              "        element.appendChild(docLink);\n",
              "      }\n",
              "    </script>\n",
              "  </div>\n",
              "\n",
              "\n",
              "<div id=\"df-b79a3cac-87ce-4031-b35e-2fa48e329259\">\n",
              "  <button class=\"colab-df-quickchart\" onclick=\"quickchart('df-b79a3cac-87ce-4031-b35e-2fa48e329259')\"\n",
              "            title=\"Suggest charts\"\n",
              "            style=\"display:none;\">\n",
              "\n",
              "<svg xmlns=\"http://www.w3.org/2000/svg\" height=\"24px\"viewBox=\"0 0 24 24\"\n",
              "     width=\"24px\">\n",
              "    <g>\n",
              "        <path d=\"M19 3H5c-1.1 0-2 .9-2 2v14c0 1.1.9 2 2 2h14c1.1 0 2-.9 2-2V5c0-1.1-.9-2-2-2zM9 17H7v-7h2v7zm4 0h-2V7h2v10zm4 0h-2v-4h2v4z\"/>\n",
              "    </g>\n",
              "</svg>\n",
              "  </button>\n",
              "\n",
              "<style>\n",
              "  .colab-df-quickchart {\n",
              "      --bg-color: #E8F0FE;\n",
              "      --fill-color: #1967D2;\n",
              "      --hover-bg-color: #E2EBFA;\n",
              "      --hover-fill-color: #174EA6;\n",
              "      --disabled-fill-color: #AAA;\n",
              "      --disabled-bg-color: #DDD;\n",
              "  }\n",
              "\n",
              "  [theme=dark] .colab-df-quickchart {\n",
              "      --bg-color: #3B4455;\n",
              "      --fill-color: #D2E3FC;\n",
              "      --hover-bg-color: #434B5C;\n",
              "      --hover-fill-color: #FFFFFF;\n",
              "      --disabled-bg-color: #3B4455;\n",
              "      --disabled-fill-color: #666;\n",
              "  }\n",
              "\n",
              "  .colab-df-quickchart {\n",
              "    background-color: var(--bg-color);\n",
              "    border: none;\n",
              "    border-radius: 50%;\n",
              "    cursor: pointer;\n",
              "    display: none;\n",
              "    fill: var(--fill-color);\n",
              "    height: 32px;\n",
              "    padding: 0;\n",
              "    width: 32px;\n",
              "  }\n",
              "\n",
              "  .colab-df-quickchart:hover {\n",
              "    background-color: var(--hover-bg-color);\n",
              "    box-shadow: 0 1px 2px rgba(60, 64, 67, 0.3), 0 1px 3px 1px rgba(60, 64, 67, 0.15);\n",
              "    fill: var(--button-hover-fill-color);\n",
              "  }\n",
              "\n",
              "  .colab-df-quickchart-complete:disabled,\n",
              "  .colab-df-quickchart-complete:disabled:hover {\n",
              "    background-color: var(--disabled-bg-color);\n",
              "    fill: var(--disabled-fill-color);\n",
              "    box-shadow: none;\n",
              "  }\n",
              "\n",
              "  .colab-df-spinner {\n",
              "    border: 2px solid var(--fill-color);\n",
              "    border-color: transparent;\n",
              "    border-bottom-color: var(--fill-color);\n",
              "    animation:\n",
              "      spin 1s steps(1) infinite;\n",
              "  }\n",
              "\n",
              "  @keyframes spin {\n",
              "    0% {\n",
              "      border-color: transparent;\n",
              "      border-bottom-color: var(--fill-color);\n",
              "      border-left-color: var(--fill-color);\n",
              "    }\n",
              "    20% {\n",
              "      border-color: transparent;\n",
              "      border-left-color: var(--fill-color);\n",
              "      border-top-color: var(--fill-color);\n",
              "    }\n",
              "    30% {\n",
              "      border-color: transparent;\n",
              "      border-left-color: var(--fill-color);\n",
              "      border-top-color: var(--fill-color);\n",
              "      border-right-color: var(--fill-color);\n",
              "    }\n",
              "    40% {\n",
              "      border-color: transparent;\n",
              "      border-right-color: var(--fill-color);\n",
              "      border-top-color: var(--fill-color);\n",
              "    }\n",
              "    60% {\n",
              "      border-color: transparent;\n",
              "      border-right-color: var(--fill-color);\n",
              "    }\n",
              "    80% {\n",
              "      border-color: transparent;\n",
              "      border-right-color: var(--fill-color);\n",
              "      border-bottom-color: var(--fill-color);\n",
              "    }\n",
              "    90% {\n",
              "      border-color: transparent;\n",
              "      border-bottom-color: var(--fill-color);\n",
              "    }\n",
              "  }\n",
              "</style>\n",
              "\n",
              "  <script>\n",
              "    async function quickchart(key) {\n",
              "      const quickchartButtonEl =\n",
              "        document.querySelector('#' + key + ' button');\n",
              "      quickchartButtonEl.disabled = true;  // To prevent multiple clicks.\n",
              "      quickchartButtonEl.classList.add('colab-df-spinner');\n",
              "      try {\n",
              "        const charts = await google.colab.kernel.invokeFunction(\n",
              "            'suggestCharts', [key], {});\n",
              "      } catch (error) {\n",
              "        console.error('Error during call to suggestCharts:', error);\n",
              "      }\n",
              "      quickchartButtonEl.classList.remove('colab-df-spinner');\n",
              "      quickchartButtonEl.classList.add('colab-df-quickchart-complete');\n",
              "    }\n",
              "    (() => {\n",
              "      let quickchartButtonEl =\n",
              "        document.querySelector('#df-b79a3cac-87ce-4031-b35e-2fa48e329259 button');\n",
              "      quickchartButtonEl.style.display =\n",
              "        google.colab.kernel.accessAllowed ? 'block' : 'none';\n",
              "    })();\n",
              "  </script>\n",
              "</div>\n",
              "    </div>\n",
              "  </div>\n"
            ],
            "application/vnd.google.colaboratory.intrinsic+json": {
              "type": "dataframe",
              "variable_name": "df",
              "summary": "{\n  \"name\": \"df\",\n  \"rows\": 93,\n  \"fields\": [\n    {\n      \"column\": \"date\",\n      \"properties\": {\n        \"dtype\": \"object\",\n        \"num_unique_values\": 31,\n        \"samples\": [\n          \"2018-10-28T00:00:00\",\n          \"2018-10-16T00:00:00\",\n          \"2018-10-24T00:00:00\"\n        ],\n        \"semantic_type\": \"\",\n        \"description\": \"\"\n      }\n    },\n    {\n      \"column\": \"datatype\",\n      \"properties\": {\n        \"dtype\": \"category\",\n        \"num_unique_values\": 3,\n        \"samples\": [\n          \"TAVG\",\n          \"TMAX\",\n          \"TMIN\"\n        ],\n        \"semantic_type\": \"\",\n        \"description\": \"\"\n      }\n    },\n    {\n      \"column\": \"station\",\n      \"properties\": {\n        \"dtype\": \"category\",\n        \"num_unique_values\": 1,\n        \"samples\": [\n          \"GHCND:USW00014732\"\n        ],\n        \"semantic_type\": \"\",\n        \"description\": \"\"\n      }\n    },\n    {\n      \"column\": \"attributes\",\n      \"properties\": {\n        \"dtype\": \"category\",\n        \"num_unique_values\": 2,\n        \"samples\": [\n          \",,W,2400\"\n        ],\n        \"semantic_type\": \"\",\n        \"description\": \"\"\n      }\n    },\n    {\n      \"column\": \"value\",\n      \"properties\": {\n        \"dtype\": \"number\",\n        \"std\": 6.133703326950107,\n        \"min\": 5.6,\n        \"max\": 27.8,\n        \"num_unique_values\": 57,\n        \"samples\": [\n          21.2\n        ],\n        \"semantic_type\": \"\",\n        \"description\": \"\"\n      }\n    }\n  ]\n}"
            }
          },
          "metadata": {},
          "execution_count": 138
        }
      ]
    },
    {
      "cell_type": "markdown",
      "source": [
        "We should check we got what we wanted: 31 entries for TAVG, TMAX, and TMIN (1 per day):"
      ],
      "metadata": {
        "id": "tPOQHZfXS0kl"
      }
    },
    {
      "cell_type": "code",
      "source": [
        "df.datatype.value_counts()"
      ],
      "metadata": {
        "colab": {
          "base_uri": "https://localhost:8080/"
        },
        "id": "sP0hdWbUOd6R",
        "outputId": "a660a0e7-d65b-4356-869e-4b57749c8342"
      },
      "execution_count": 139,
      "outputs": [
        {
          "output_type": "execute_result",
          "data": {
            "text/plain": [
              "TAVG    31\n",
              "TMAX    31\n",
              "TMIN    31\n",
              "Name: datatype, dtype: int64"
            ]
          },
          "metadata": {},
          "execution_count": 139
        }
      ]
    },
    {
      "cell_type": "markdown",
      "source": [
        "Write the data to a CSV file for use in other notebooks."
      ],
      "metadata": {
        "id": "u0QwntE3S2kC"
      }
    },
    {
      "cell_type": "code",
      "source": [
        "df.to_csv('sample_data/nyc_temperatures.csv', index=False)"
      ],
      "metadata": {
        "id": "UghflqzgOjpN"
      },
      "execution_count": 140,
      "outputs": []
    },
    {
      "cell_type": "code",
      "source": [],
      "metadata": {
        "id": "mkO8fKsbOktK"
      },
      "execution_count": 140,
      "outputs": []
    }
  ]
}