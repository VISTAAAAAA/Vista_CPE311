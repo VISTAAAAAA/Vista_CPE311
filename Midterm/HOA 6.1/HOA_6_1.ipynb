{
  "cells": [
    {
      "cell_type": "markdown",
      "metadata": {
        "id": "22A5XLtPN9lC"
      },
      "source": [
        "#Hands-on Activity 6.1 Introduction to Data Analysis and Tools\n",
        "###CPE311 Computational Thinking with Python\n",
        "Name: Vista, Jens Liam P.\n",
        "Section: CPE22S3\n",
        "Performed on: 03/07/2024\n",
        "Submitted on: 03/07/2024\n",
        "Submitted to: Engr. Roman M. Richard"
      ]
    },
    {
      "cell_type": "markdown",
      "metadata": {
        "id": "c-KKgJsVOQq7"
      },
      "source": [
        "# 6.1 Intended Learning Outcome\n",
        "\n",
        "\n",
        "*  Use pandas and numpy data analysis tools.\n",
        "*  Demonstrate how to analyze data using numpy and pandas\n",
        "\n"
      ]
    },
    {
      "cell_type": "markdown",
      "metadata": {
        "id": "mAfJZZmfObla"
      },
      "source": [
        "# 6.2 Resources:\n",
        "\n",
        "*   Personal Computer\n",
        "*   Jupyter Notebook\n",
        "*   Internet Connection\n",
        "\n"
      ]
    },
    {
      "cell_type": "markdown",
      "metadata": {
        "id": "OFQ7K4XdOlQW"
      },
      "source": [
        "# 6.3 Supplementary Activities:\n",
        "###Exercise 1\n",
        "Run the given code below for exercises 1 and 2, perform the given tasks without using any Python modules."
      ]
    },
    {
      "cell_type": "code",
      "execution_count": 2,
      "metadata": {
        "id": "kFWRJEYiNzMt"
      },
      "outputs": [],
      "source": [
        "import random\n",
        "import numpy as np\n",
        "random.seed(0)\n",
        "salaries = [round(random.random()*1000000, -3) for _ in range(100)]"
      ]
    },
    {
      "cell_type": "markdown",
      "metadata": {
        "id": "0vOQd3LmPWnP"
      },
      "source": [
        "Using the data generated above, calculate the following statistics without importing anything from the statistics module in the\n",
        "standard library (https://docs.python.org/3/library/statistics.html) and then confirm your results match up to those that are\n",
        "obtained when using the statistics module (where possible):\n",
        "* Mean\n",
        "* Median\n",
        "* Mode (hint: check out the Counter in the collections module of the standard library at\n",
        "https://docs.python.org/3/library/collections.html#collections.Counter)\n",
        "* Sample variance\n",
        "* Sample standard deviation"
      ]
    },
    {
      "cell_type": "code",
      "execution_count": null,
      "metadata": {
        "colab": {
          "base_uri": "https://localhost:8080/"
        },
        "id": "MMnrHYzLQ9mS",
        "outputId": "abfcc451-c1f9-4117-fce2-2b04afa35d89"
      },
      "outputs": [
        {
          "name": "stdout",
          "output_type": "stream",
          "text": [
            "585690.0\n"
          ]
        }
      ],
      "source": [
        "# Mean Code\n",
        "mean = sum(salaries)/len(salaries) # I need this\n",
        "print(mean)"
      ]
    },
    {
      "cell_type": "code",
      "execution_count": null,
      "metadata": {
        "colab": {
          "base_uri": "https://localhost:8080/"
        },
        "id": "J3I6Kh_kTFIh",
        "outputId": "9e3f6fb4-4c5a-44e8-ed79-9204489ea809"
      },
      "outputs": [
        {
          "name": "stdout",
          "output_type": "stream",
          "text": [
            "885500.0\n"
          ]
        }
      ],
      "source": [
        "# Median Code\n",
        "if len(salaries) % 2 == 0:\n",
        "  mid = int(len(salaries)/2)\n",
        "  print((salaries[mid] + salaries[mid-1])/2)\n",
        "else:\n",
        "  print(salaries[len(salaries-1)/2])"
      ]
    },
    {
      "cell_type": "code",
      "execution_count": 3,
      "metadata": {
        "colab": {
          "base_uri": "https://localhost:8080/"
        },
        "id": "oRGm_MfCVEGv",
        "outputId": "f1938db0-fcef-4142-9202-f4a68719975a"
      },
      "outputs": [
        {
          "output_type": "stream",
          "name": "stdout",
          "text": [
            "My mode:  477000.0\n",
            "Scipy mode:  ModeResult(mode=477000.0, count=3)\n",
            "Scipy mode:  477000.0 3\n"
          ]
        }
      ],
      "source": [
        "# Mode Code\n",
        "meow = {}\n",
        "for i in salaries:\n",
        "  meow[i] = salaries.count(i)\n",
        "print(\"My mode: \",max(meow, key=meow.get))\n",
        "from scipy import stats\n",
        "print(\"Scipy mode: \",stats.mode(salaries))\n",
        "print(\"Scipy mode: \",*stats.mode(salaries))"
      ]
    },
    {
      "cell_type": "code",
      "source": [
        "def mode(salaries):\n",
        "    # counter of occurrences\n",
        "    counts = {}\n",
        "    for salary in salaries:\n",
        "        counts[salary] = counts.get(salary, 0) + 1\n",
        "\n",
        "    # finding the max value in count\n",
        "    max_count = max(counts.values())\n",
        "\n",
        "    # find all items with max count\n",
        "    modes = [salary for salary, count in counts.items() if count == max_count]\n",
        "\n",
        "    if len(modes) == len(set(salaries)):\n",
        "        return \"No mode\"  # no mode when all items occurred only once\n",
        "    else:\n",
        "        return modes  # return list of all possible modes\n",
        "print(mode(salaries))"
      ],
      "metadata": {
        "colab": {
          "base_uri": "https://localhost:8080/"
        },
        "id": "Rmq2fpvtdzOy",
        "outputId": "5d5b5b17-8874-4582-c216-c544eef92ed6"
      },
      "execution_count": 5,
      "outputs": [
        {
          "output_type": "stream",
          "name": "stdout",
          "text": [
            "[477000.0]\n"
          ]
        }
      ]
    },
    {
      "cell_type": "code",
      "execution_count": null,
      "metadata": {
        "colab": {
          "base_uri": "https://localhost:8080/"
        },
        "id": "7BRRFbMPWA57",
        "outputId": "7c0bc69e-4f39-4543-97d9-ce3260457460"
      },
      "outputs": [
        {
          "name": "stdout",
          "output_type": "stream",
          "text": [
            "70664054444.44444\n"
          ]
        }
      ],
      "source": [
        "# Sample Variance\n",
        "memo = []\n",
        "for i in salaries:\n",
        "  memo.append(pow((i-mean), 2))\n",
        "print(sum(memo)/(len(salaries)-1))"
      ]
    },
    {
      "cell_type": "code",
      "execution_count": null,
      "metadata": {
        "colab": {
          "background_save": true,
          "base_uri": "https://localhost:8080/"
        },
        "id": "EQidRVHFEVQN",
        "outputId": "2c45d12a-14f8-4b7a-c360-32e7cdedd7df"
      },
      "outputs": [
        {
          "ename": "NameError",
          "evalue": "name 'np' is not defined",
          "output_type": "error",
          "traceback": [
            "\u001b[0;31m---------------------------------------------------------------------------\u001b[0m",
            "\u001b[0;31mNameError\u001b[0m                                 Traceback (most recent call last)",
            "\u001b[0;32m<ipython-input-20-b920d302a4ae>\u001b[0m in \u001b[0;36m<cell line: 2>\u001b[0;34m()\u001b[0m\n\u001b[1;32m      1\u001b[0m \u001b[0;32mimport\u001b[0m \u001b[0mnumpy\u001b[0m\u001b[0;34m\u001b[0m\u001b[0;34m\u001b[0m\u001b[0m\n\u001b[0;32m----> 2\u001b[0;31m \u001b[0mnp\u001b[0m\u001b[0;34m.\u001b[0m\u001b[0mvar\u001b[0m\u001b[0;34m(\u001b[0m\u001b[0msalaries\u001b[0m\u001b[0;34m)\u001b[0m\u001b[0;34m\u001b[0m\u001b[0;34m\u001b[0m\u001b[0m\n\u001b[0m",
            "\u001b[0;31mNameError\u001b[0m: name 'np' is not defined"
          ]
        }
      ],
      "source": []
    },
    {
      "cell_type": "markdown",
      "metadata": {
        "id": "1xC1Evr4EUVz"
      },
      "source": []
    },
    {
      "cell_type": "markdown",
      "metadata": {
        "id": "l_Ffp-24PrkZ"
      },
      "source": [
        "# Exercise 2\n",
        "### Using the same data, calculate the following statistics using the functions in the statistics module where appropriate:\n",
        "\n",
        "*  Range\n",
        "*  Coefficient of variation Interquartile range\n",
        "*  Quartile coefficient of dispersion"
      ]
    },
    {
      "cell_type": "code",
      "execution_count": null,
      "metadata": {
        "id": "rt9Avd1bPoHO"
      },
      "outputs": [],
      "source": []
    },
    {
      "cell_type": "markdown",
      "metadata": {
        "id": "j2m-NsmlP9-F"
      },
      "source": [
        "# Exercise 3: Pandas for Data Analysis\n",
        "### Load the diabetes.csv file. Convert the diabetes.csv into dataframe\n",
        "Perform the following tasks in the diabetes dataframe:\n",
        "1. Identify the column names\n",
        "2. Identify the data types of the data\n",
        "3. Display the total number of records\n",
        "4. Display the first 20 records\n",
        "5. Display the last 20 records\n",
        "6. Change the Outcome column to Diagnosis\n",
        "7. Create a new column Classification that display \"Diabetes\" if the value of outcome is 1 , otherwise \"No Diabetes\"\n",
        "8. Create a new dataframe \"withDiabetes\" that gathers data with diabetes\n",
        "9. Create a new dataframe \"noDiabetes\" thats gathers data with no diabetes\n",
        "10. Create a new dataframe \"Pedia\" that gathers data with age 0 to 19\n",
        "11. Create a new dataframe \"Adult\" that gathers data with age greater than 19\n",
        "12. Use numpy to get the average age and glucose value.\n",
        "13. Use numpy to get the median age and glucose value.\n",
        "14. Use numpy to get the middle values of glucose and age.\n",
        "15. Use numpy to get the standard deviation of the skinthickness.\n"
      ]
    },
    {
      "cell_type": "markdown",
      "metadata": {
        "id": "EwkHTWKNQp9L"
      },
      "source": [
        "# 6.4 Conclusion"
      ]
    }
  ],
  "metadata": {
    "colab": {
      "provenance": []
    },
    "kernelspec": {
      "display_name": "Python 3",
      "name": "python3"
    },
    "language_info": {
      "name": "python"
    }
  },
  "nbformat": 4,
  "nbformat_minor": 0
}